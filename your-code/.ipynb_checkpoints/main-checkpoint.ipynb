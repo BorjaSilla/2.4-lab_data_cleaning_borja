{
 "cells": [
  {
   "cell_type": "markdown",
   "metadata": {
    "toc": true
   },
   "source": [
    "<h1>Table of Contents<span class=\"tocSkip\"></span></h1>\n",
    "<div class=\"toc\"><ul class=\"toc-item\"><li><span><a href=\"#Data-Cleaning\" data-toc-modified-id=\"Data-Cleaning-1\"><span class=\"toc-item-num\">1&nbsp;&nbsp;</span>Data Cleaning</a></span></li><li><span><a href=\"#Examining-Data-for-Potential-Issues\" data-toc-modified-id=\"Examining-Data-for-Potential-Issues-2\"><span class=\"toc-item-num\">2&nbsp;&nbsp;</span>Examining Data for Potential Issues</a></span></li><li><span><a href=\"#Missing-Values\" data-toc-modified-id=\"Missing-Values-3\"><span class=\"toc-item-num\">3&nbsp;&nbsp;</span>Missing Values</a></span><ul class=\"toc-item\"><li><span><a href=\"#Show-the-number-of-null-values-only-of-the-columns-that-actually-have-null-values\" data-toc-modified-id=\"Show-the-number-of-null-values-only-of-the-columns-that-actually-have-null-values-3.1\"><span class=\"toc-item-num\">3.1&nbsp;&nbsp;</span>Show the number of null values only of the columns that actually have null values</a></span></li><li><span><a href=\"#Remove-the-columns-that-have-more-than-10,000-null-values-in-them\" data-toc-modified-id=\"Remove-the-columns-that-have-more-than-10,000-null-values-in-them-3.2\"><span class=\"toc-item-num\">3.2&nbsp;&nbsp;</span>Remove the columns that have more than 10,000 null values in them</a></span></li><li><span><a href=\"#Create-a-new-dataframe-that-shows-only-the-row-where-displ-is-null.\" data-toc-modified-id=\"Create-a-new-dataframe-that-shows-only-the-row-where-displ-is-null.-3.3\"><span class=\"toc-item-num\">3.3&nbsp;&nbsp;</span>Create a new dataframe that shows only the row where <code>displ</code> is null.</a></span></li><li><span><a href=\"#Fill-nan-values-with-the-most-appropriate-technique\" data-toc-modified-id=\"Fill-nan-values-with-the-most-appropriate-technique-3.4\"><span class=\"toc-item-num\">3.4&nbsp;&nbsp;</span>Fill nan values with the most appropriate technique</a></span></li><li><span><a href=\"#Bonus:\" data-toc-modified-id=\"Bonus:-3.5\"><span class=\"toc-item-num\">3.5&nbsp;&nbsp;</span>Bonus:</a></span></li></ul></li><li><span><a href=\"#Incorrect-Values\" data-toc-modified-id=\"Incorrect-Values-4\"><span class=\"toc-item-num\">4&nbsp;&nbsp;</span>Incorrect Values</a></span><ul class=\"toc-item\"><li><span><a href=\"#Check-similar-rows\" data-toc-modified-id=\"Check-similar-rows-4.1\"><span class=\"toc-item-num\">4.1&nbsp;&nbsp;</span>Check similar rows</a></span></li><li><span><a href=\"#Bonus:\" data-toc-modified-id=\"Bonus:-4.2\"><span class=\"toc-item-num\">4.2&nbsp;&nbsp;</span>Bonus:</a></span></li></ul></li><li><span><a href=\"#Low-Variance-Columns\" data-toc-modified-id=\"Low-Variance-Columns-5\"><span class=\"toc-item-num\">5&nbsp;&nbsp;</span>Low Variance Columns</a></span><ul class=\"toc-item\"><li><span><a href=\"#Use-the-the-drop-method-like-we-did-earlier-in-this-lesson-to-remove-the-non-informative-columns-from-our-data-frame.\" data-toc-modified-id=\"Use-the-the-drop-method-like-we-did-earlier-in-this-lesson-to-remove-the-non-informative-columns-from-our-data-frame.-5.1\"><span class=\"toc-item-num\">5.1&nbsp;&nbsp;</span>Use the the drop method like we did earlier in this lesson to remove the non informative columns from our data frame.</a></span></li></ul></li><li><span><a href=\"#Extreme-Values-and-Outliers\" data-toc-modified-id=\"Extreme-Values-and-Outliers-6\"><span class=\"toc-item-num\">6&nbsp;&nbsp;</span>Extreme Values and Outliers</a></span></li><li><span><a href=\"#Data-Type-Correction\" data-toc-modified-id=\"Data-Type-Correction-7\"><span class=\"toc-item-num\">7&nbsp;&nbsp;</span>Data Type Correction</a></span><ul class=\"toc-item\"><li><span><a href=\"#Check-the-data-type-of-each-column\" data-toc-modified-id=\"Check-the-data-type-of-each-column-7.1\"><span class=\"toc-item-num\">7.1&nbsp;&nbsp;</span>Check the data type of each column</a></span></li><li><span><a href=\"#Cleaning-years\" data-toc-modified-id=\"Cleaning-years-7.2\"><span class=\"toc-item-num\">7.2&nbsp;&nbsp;</span>Cleaning years</a></span></li></ul></li><li><span><a href=\"#Cleaning-Text-and-Removing-Special-Characters\" data-toc-modified-id=\"Cleaning-Text-and-Removing-Special-Characters-8\"><span class=\"toc-item-num\">8&nbsp;&nbsp;</span>Cleaning Text and Removing Special Characters</a></span></li><li><span><a href=\"#Finding-and-Removing-Duplicates\" data-toc-modified-id=\"Finding-and-Removing-Duplicates-9\"><span class=\"toc-item-num\">9&nbsp;&nbsp;</span>Finding and Removing Duplicates</a></span><ul class=\"toc-item\"><li><span><a href=\"#Drop-duplicate-rows-that-are-completely-equal\" data-toc-modified-id=\"Drop-duplicate-rows-that-are-completely-equal-9.1\"><span class=\"toc-item-num\">9.1&nbsp;&nbsp;</span>Drop duplicate rows that are completely equal</a></span></li><li><span><a href=\"#Select-a-subset-of-columns,-remove-all-other-columns,-and-then-use-the-drop_duplicates-method-to-drop-any-duplicate-records-based-on-the-remaining-columns.\" data-toc-modified-id=\"Select-a-subset-of-columns,-remove-all-other-columns,-and-then-use-the-drop_duplicates-method-to-drop-any-duplicate-records-based-on-the-remaining-columns.-9.2\"><span class=\"toc-item-num\">9.2&nbsp;&nbsp;</span>Select a subset of columns, remove all other columns, and then use the drop_duplicates method to drop any duplicate records based on the remaining columns.</a></span></li></ul></li><li><span><a href=\"#Export-clean-dataset\" data-toc-modified-id=\"Export-clean-dataset-10\"><span class=\"toc-item-num\">10&nbsp;&nbsp;</span>Export clean dataset</a></span></li></ul></div>"
   ]
  },
  {
   "cell_type": "markdown",
   "metadata": {},
   "source": [
    "# Data Cleaning\n",
    "\n",
    "\n",
    "Lab Goals\n",
    "\n",
    "+ Examine data for potential issues.\n",
    "+ Identify and fill in missing values.\n",
    "+ Identify and correct incorrect values.\n",
    "+ Remove low variance columns.\n",
    "+ Identify potential outliers.\n",
    "+ Correct incorrect data types.\n",
    "+ Remove special characters and clean categorical variables.\n",
    "+ Identify and remove duplicate records.\n",
    "\n",
    "Introduction\n",
    "\n",
    "When working with data sets, you will find that they often require a bit of cleaning. Whether Pandas originally read the data types incorrectly, records are duplicated, the data contains special characters or missing value, or there are slightly different references to the same entity, every data analyst must know how to clean the data they are working with before analyzing it. In this lesson, you will learn about some of the most common problems that make data messy and methods for correcting those problems and cleaning your data.\n",
    "\n",
    "The data set we are going to be using for this lesson is a messy version of the vehicles data set we worked with in the previous lesson. Let's import this version of our data set so that we can then practice cleaning it up."
   ]
  },
  {
   "cell_type": "code",
   "execution_count": 1,
   "metadata": {},
   "outputs": [],
   "source": [
    "import pandas as pd\n",
    "import numpy as np\n",
    "import seaborn as sns\n",
    "import matplotlib.pyplot as plt"
   ]
  },
  {
   "cell_type": "code",
   "execution_count": 2,
   "metadata": {},
   "outputs": [],
   "source": [
    "# My function to plot nulls\n",
    "def plot_null_heatmap(df):\n",
    "    # Create a heatmap of null values in the DataFrame\n",
    "    plt.figure(figsize=(10, 6))\n",
    "    sns.heatmap(df.isnull(), cbar=False, cmap='viridis')\n",
    "    plt.title(\"Null Values Heatmap\")\n",
    "    plt.show()\n"
   ]
  },
  {
   "cell_type": "code",
   "execution_count": 3,
   "metadata": {
    "scrolled": true
   },
   "outputs": [
    {
     "name": "stderr",
     "output_type": "stream",
     "text": [
      "/var/folders/f2/ty6sgcw911g2_3vqhhq561vm0000gn/T/ipykernel_9003/3361738768.py:3: DtypeWarning: Columns (70,71,72,73,74,76,79) have mixed types. Specify dtype option on import or set low_memory=False.\n",
      "  data = pd.read_csv('../data/vehicles_messy.csv')\n"
     ]
    },
    {
     "data": {
      "text/plain": [
       "Index             132\n",
       "barrels08      302744\n",
       "barrelsA08     302744\n",
       "charge120      302744\n",
       "charge240      302744\n",
       "               ...   \n",
       "modifiedOn    3216655\n",
       "startStop     1370564\n",
       "phevCity       302744\n",
       "phevHwy        302744\n",
       "phevComb       302744\n",
       "Length: 84, dtype: int64"
      ]
     },
     "execution_count": 3,
     "metadata": {},
     "output_type": "execute_result"
    }
   ],
   "source": [
    "#Load data from vehicles_messy.csv\n",
    "\n",
    "data = pd.read_csv('../data/vehicles_messy.csv')\n",
    "data.memory_usage(deep=True)"
   ]
  },
  {
   "cell_type": "code",
   "execution_count": 4,
   "metadata": {},
   "outputs": [],
   "source": [
    "# display all columns\n",
    "pd.set_option('display.max_columns', None)"
   ]
  },
  {
   "cell_type": "markdown",
   "metadata": {},
   "source": [
    "# Examining Data for Potential Issues\n",
    "\n",
    "One of the first things we want to do is examine the data and look for any **potential issues**. Some of the things we are interested in identifying in the data at this stage include:\n",
    "\n",
    "- Missing values\n",
    "- Special characters\n",
    "- Incorrect values\n",
    "- Extreme values or outliers\n",
    "- Duplicate records\n",
    "- Incorrect data types\n",
    "\n",
    "The presence of these may cause problems when it's time to analyze the data, so we want to make sure we address them beforehand. We can start by visually inspecting the data using the `.head` method, which will show us the first 5 rows of data. "
   ]
  },
  {
   "cell_type": "code",
   "execution_count": 5,
   "metadata": {},
   "outputs": [
    {
     "data": {
      "text/html": [
       "<div>\n",
       "<style scoped>\n",
       "    .dataframe tbody tr th:only-of-type {\n",
       "        vertical-align: middle;\n",
       "    }\n",
       "\n",
       "    .dataframe tbody tr th {\n",
       "        vertical-align: top;\n",
       "    }\n",
       "\n",
       "    .dataframe thead th {\n",
       "        text-align: right;\n",
       "    }\n",
       "</style>\n",
       "<table border=\"1\" class=\"dataframe\">\n",
       "  <thead>\n",
       "    <tr style=\"text-align: right;\">\n",
       "      <th></th>\n",
       "      <th>barrels08</th>\n",
       "      <th>barrelsA08</th>\n",
       "      <th>charge120</th>\n",
       "      <th>charge240</th>\n",
       "      <th>city08</th>\n",
       "      <th>city08U</th>\n",
       "      <th>cityA08</th>\n",
       "      <th>cityA08U</th>\n",
       "      <th>cityCD</th>\n",
       "      <th>cityE</th>\n",
       "      <th>cityUF</th>\n",
       "      <th>co2</th>\n",
       "      <th>co2A</th>\n",
       "      <th>co2TailpipeAGpm</th>\n",
       "      <th>co2TailpipeGpm</th>\n",
       "      <th>comb08</th>\n",
       "      <th>comb08U</th>\n",
       "      <th>combA08</th>\n",
       "      <th>combA08U</th>\n",
       "      <th>combE</th>\n",
       "      <th>combinedCD</th>\n",
       "      <th>combinedUF</th>\n",
       "      <th>cylinders</th>\n",
       "      <th>displ</th>\n",
       "      <th>drive</th>\n",
       "      <th>engId</th>\n",
       "      <th>eng_dscr</th>\n",
       "      <th>feScore</th>\n",
       "      <th>fuelCost08</th>\n",
       "      <th>fuelCostA08</th>\n",
       "      <th>fuelType</th>\n",
       "      <th>fuelType1</th>\n",
       "      <th>ghgScore</th>\n",
       "      <th>ghgScoreA</th>\n",
       "      <th>highway08</th>\n",
       "      <th>highway08U</th>\n",
       "      <th>highwayA08</th>\n",
       "      <th>highwayA08U</th>\n",
       "      <th>highwayCD</th>\n",
       "      <th>highwayE</th>\n",
       "      <th>highwayUF</th>\n",
       "      <th>hlv</th>\n",
       "      <th>hpv</th>\n",
       "      <th>id</th>\n",
       "      <th>lv2</th>\n",
       "      <th>lv4</th>\n",
       "      <th>make</th>\n",
       "      <th>model</th>\n",
       "      <th>mpgData</th>\n",
       "      <th>phevBlended</th>\n",
       "      <th>pv2</th>\n",
       "      <th>pv4</th>\n",
       "      <th>range</th>\n",
       "      <th>rangeCity</th>\n",
       "      <th>rangeCityA</th>\n",
       "      <th>rangeHwy</th>\n",
       "      <th>rangeHwyA</th>\n",
       "      <th>trany</th>\n",
       "      <th>UCity</th>\n",
       "      <th>UCityA</th>\n",
       "      <th>UHighway</th>\n",
       "      <th>UHighwayA</th>\n",
       "      <th>VClass</th>\n",
       "      <th>year</th>\n",
       "      <th>youSaveSpend</th>\n",
       "      <th>guzzler</th>\n",
       "      <th>trans_dscr</th>\n",
       "      <th>tCharger</th>\n",
       "      <th>sCharger</th>\n",
       "      <th>atvType</th>\n",
       "      <th>fuelType2</th>\n",
       "      <th>rangeA</th>\n",
       "      <th>evMotor</th>\n",
       "      <th>mfrCode</th>\n",
       "      <th>c240Dscr</th>\n",
       "      <th>charge240b</th>\n",
       "      <th>c240bDscr</th>\n",
       "      <th>createdOn</th>\n",
       "      <th>modifiedOn</th>\n",
       "      <th>startStop</th>\n",
       "      <th>phevCity</th>\n",
       "      <th>phevHwy</th>\n",
       "      <th>phevComb</th>\n",
       "    </tr>\n",
       "  </thead>\n",
       "  <tbody>\n",
       "    <tr>\n",
       "      <th>0</th>\n",
       "      <td>15.695714</td>\n",
       "      <td>0.0</td>\n",
       "      <td>0.0</td>\n",
       "      <td>0.0</td>\n",
       "      <td>19</td>\n",
       "      <td>0.0</td>\n",
       "      <td>0</td>\n",
       "      <td>0.0</td>\n",
       "      <td>0.0</td>\n",
       "      <td>0.0</td>\n",
       "      <td>0.0</td>\n",
       "      <td>-1</td>\n",
       "      <td>-1</td>\n",
       "      <td>0.0</td>\n",
       "      <td>423.190476</td>\n",
       "      <td>21</td>\n",
       "      <td>0.0</td>\n",
       "      <td>0</td>\n",
       "      <td>0.0</td>\n",
       "      <td>0.0</td>\n",
       "      <td>0.0</td>\n",
       "      <td>0.0</td>\n",
       "      <td>4.0</td>\n",
       "      <td>2.0</td>\n",
       "      <td>Rear-Wheel Drive</td>\n",
       "      <td>9011</td>\n",
       "      <td>(FFS)</td>\n",
       "      <td>-1</td>\n",
       "      <td>1600</td>\n",
       "      <td>0</td>\n",
       "      <td>Regular</td>\n",
       "      <td>Regular Gasoline</td>\n",
       "      <td>-1</td>\n",
       "      <td>-1</td>\n",
       "      <td>25</td>\n",
       "      <td>0.0</td>\n",
       "      <td>0</td>\n",
       "      <td>0.0</td>\n",
       "      <td>0.0</td>\n",
       "      <td>0.0</td>\n",
       "      <td>0.0</td>\n",
       "      <td>0</td>\n",
       "      <td>0</td>\n",
       "      <td>1</td>\n",
       "      <td>0</td>\n",
       "      <td>0</td>\n",
       "      <td>Alfa Romeo</td>\n",
       "      <td>Spider Veloce 2000</td>\n",
       "      <td>Y</td>\n",
       "      <td>False</td>\n",
       "      <td>0</td>\n",
       "      <td>0</td>\n",
       "      <td>0</td>\n",
       "      <td>0.0</td>\n",
       "      <td>0.0</td>\n",
       "      <td>0.0</td>\n",
       "      <td>0.0</td>\n",
       "      <td>Manual 5-spd</td>\n",
       "      <td>23.3333</td>\n",
       "      <td>0.0</td>\n",
       "      <td>35.0000</td>\n",
       "      <td>0.0</td>\n",
       "      <td>Two Seaters</td>\n",
       "      <td>1985</td>\n",
       "      <td>-1250</td>\n",
       "      <td>NaN</td>\n",
       "      <td>NaN</td>\n",
       "      <td>NaN</td>\n",
       "      <td>NaN</td>\n",
       "      <td>NaN</td>\n",
       "      <td>NaN</td>\n",
       "      <td>NaN</td>\n",
       "      <td>NaN</td>\n",
       "      <td>NaN</td>\n",
       "      <td>NaN</td>\n",
       "      <td>0.0</td>\n",
       "      <td>NaN</td>\n",
       "      <td>Tue Jan 01 00:00:00 EST 2013</td>\n",
       "      <td>Tue Jan 01 00:00:00 EST 2013</td>\n",
       "      <td>NaN</td>\n",
       "      <td>0</td>\n",
       "      <td>0</td>\n",
       "      <td>0</td>\n",
       "    </tr>\n",
       "    <tr>\n",
       "      <th>1</th>\n",
       "      <td>29.964545</td>\n",
       "      <td>0.0</td>\n",
       "      <td>0.0</td>\n",
       "      <td>0.0</td>\n",
       "      <td>9</td>\n",
       "      <td>0.0</td>\n",
       "      <td>0</td>\n",
       "      <td>0.0</td>\n",
       "      <td>0.0</td>\n",
       "      <td>0.0</td>\n",
       "      <td>0.0</td>\n",
       "      <td>-1</td>\n",
       "      <td>-1</td>\n",
       "      <td>0.0</td>\n",
       "      <td>807.909091</td>\n",
       "      <td>11</td>\n",
       "      <td>0.0</td>\n",
       "      <td>0</td>\n",
       "      <td>0.0</td>\n",
       "      <td>0.0</td>\n",
       "      <td>0.0</td>\n",
       "      <td>0.0</td>\n",
       "      <td>12.0</td>\n",
       "      <td>4.9</td>\n",
       "      <td>Rear-Wheel Drive</td>\n",
       "      <td>22020</td>\n",
       "      <td>(GUZZLER)</td>\n",
       "      <td>-1</td>\n",
       "      <td>3050</td>\n",
       "      <td>0</td>\n",
       "      <td>Regular</td>\n",
       "      <td>Regular Gasoline</td>\n",
       "      <td>-1</td>\n",
       "      <td>-1</td>\n",
       "      <td>14</td>\n",
       "      <td>0.0</td>\n",
       "      <td>0</td>\n",
       "      <td>0.0</td>\n",
       "      <td>0.0</td>\n",
       "      <td>0.0</td>\n",
       "      <td>0.0</td>\n",
       "      <td>0</td>\n",
       "      <td>0</td>\n",
       "      <td>10</td>\n",
       "      <td>0</td>\n",
       "      <td>0</td>\n",
       "      <td>Ferrari</td>\n",
       "      <td>Testarossa</td>\n",
       "      <td>N</td>\n",
       "      <td>False</td>\n",
       "      <td>0</td>\n",
       "      <td>0</td>\n",
       "      <td>0</td>\n",
       "      <td>0.0</td>\n",
       "      <td>0.0</td>\n",
       "      <td>0.0</td>\n",
       "      <td>0.0</td>\n",
       "      <td>Manual 5-spd</td>\n",
       "      <td>11.0000</td>\n",
       "      <td>0.0</td>\n",
       "      <td>19.0000</td>\n",
       "      <td>0.0</td>\n",
       "      <td>Two Seaters</td>\n",
       "      <td>1985</td>\n",
       "      <td>-8500</td>\n",
       "      <td>T</td>\n",
       "      <td>NaN</td>\n",
       "      <td>NaN</td>\n",
       "      <td>NaN</td>\n",
       "      <td>NaN</td>\n",
       "      <td>NaN</td>\n",
       "      <td>NaN</td>\n",
       "      <td>NaN</td>\n",
       "      <td>NaN</td>\n",
       "      <td>NaN</td>\n",
       "      <td>0.0</td>\n",
       "      <td>NaN</td>\n",
       "      <td>Tue Jan 01 00:00:00 EST 2013</td>\n",
       "      <td>Tue Jan 01 00:00:00 EST 2013</td>\n",
       "      <td>NaN</td>\n",
       "      <td>0</td>\n",
       "      <td>0</td>\n",
       "      <td>0</td>\n",
       "    </tr>\n",
       "    <tr>\n",
       "      <th>2</th>\n",
       "      <td>12.207778</td>\n",
       "      <td>0.0</td>\n",
       "      <td>0.0</td>\n",
       "      <td>0.0</td>\n",
       "      <td>23</td>\n",
       "      <td>0.0</td>\n",
       "      <td>0</td>\n",
       "      <td>0.0</td>\n",
       "      <td>0.0</td>\n",
       "      <td>0.0</td>\n",
       "      <td>0.0</td>\n",
       "      <td>-1</td>\n",
       "      <td>-1</td>\n",
       "      <td>0.0</td>\n",
       "      <td>329.148148</td>\n",
       "      <td>27</td>\n",
       "      <td>0.0</td>\n",
       "      <td>0</td>\n",
       "      <td>0.0</td>\n",
       "      <td>0.0</td>\n",
       "      <td>0.0</td>\n",
       "      <td>0.0</td>\n",
       "      <td>4.0</td>\n",
       "      <td>2.2</td>\n",
       "      <td>Front-Wheel Drive</td>\n",
       "      <td>2100</td>\n",
       "      <td>(FFS)</td>\n",
       "      <td>-1</td>\n",
       "      <td>1250</td>\n",
       "      <td>0</td>\n",
       "      <td>Regular</td>\n",
       "      <td>Regular Gasoline</td>\n",
       "      <td>-1</td>\n",
       "      <td>-1</td>\n",
       "      <td>33</td>\n",
       "      <td>0.0</td>\n",
       "      <td>0</td>\n",
       "      <td>0.0</td>\n",
       "      <td>0.0</td>\n",
       "      <td>0.0</td>\n",
       "      <td>0.0</td>\n",
       "      <td>19</td>\n",
       "      <td>77</td>\n",
       "      <td>100</td>\n",
       "      <td>0</td>\n",
       "      <td>0</td>\n",
       "      <td>Dodge</td>\n",
       "      <td>Charger</td>\n",
       "      <td>Y</td>\n",
       "      <td>False</td>\n",
       "      <td>0</td>\n",
       "      <td>0</td>\n",
       "      <td>0</td>\n",
       "      <td>0.0</td>\n",
       "      <td>0.0</td>\n",
       "      <td>0.0</td>\n",
       "      <td>0.0</td>\n",
       "      <td>Manual 5-spd</td>\n",
       "      <td>29.0000</td>\n",
       "      <td>0.0</td>\n",
       "      <td>47.0000</td>\n",
       "      <td>0.0</td>\n",
       "      <td>Subcompact Cars</td>\n",
       "      <td>1985</td>\n",
       "      <td>500</td>\n",
       "      <td>NaN</td>\n",
       "      <td>SIL</td>\n",
       "      <td>NaN</td>\n",
       "      <td>NaN</td>\n",
       "      <td>NaN</td>\n",
       "      <td>NaN</td>\n",
       "      <td>NaN</td>\n",
       "      <td>NaN</td>\n",
       "      <td>NaN</td>\n",
       "      <td>NaN</td>\n",
       "      <td>0.0</td>\n",
       "      <td>NaN</td>\n",
       "      <td>Tue Jan 01 00:00:00 EST 2013</td>\n",
       "      <td>Tue Jan 01 00:00:00 EST 2013</td>\n",
       "      <td>NaN</td>\n",
       "      <td>0</td>\n",
       "      <td>0</td>\n",
       "      <td>0</td>\n",
       "    </tr>\n",
       "    <tr>\n",
       "      <th>3</th>\n",
       "      <td>29.964545</td>\n",
       "      <td>0.0</td>\n",
       "      <td>0.0</td>\n",
       "      <td>0.0</td>\n",
       "      <td>10</td>\n",
       "      <td>0.0</td>\n",
       "      <td>0</td>\n",
       "      <td>0.0</td>\n",
       "      <td>0.0</td>\n",
       "      <td>0.0</td>\n",
       "      <td>0.0</td>\n",
       "      <td>-1</td>\n",
       "      <td>-1</td>\n",
       "      <td>0.0</td>\n",
       "      <td>807.909091</td>\n",
       "      <td>11</td>\n",
       "      <td>0.0</td>\n",
       "      <td>0</td>\n",
       "      <td>0.0</td>\n",
       "      <td>0.0</td>\n",
       "      <td>0.0</td>\n",
       "      <td>0.0</td>\n",
       "      <td>8.0</td>\n",
       "      <td>5.2</td>\n",
       "      <td>Rear-Wheel Drive</td>\n",
       "      <td>2850</td>\n",
       "      <td>NaN</td>\n",
       "      <td>-1</td>\n",
       "      <td>3050</td>\n",
       "      <td>0</td>\n",
       "      <td>Regular</td>\n",
       "      <td>Regular Gasoline</td>\n",
       "      <td>-1</td>\n",
       "      <td>-1</td>\n",
       "      <td>12</td>\n",
       "      <td>0.0</td>\n",
       "      <td>0</td>\n",
       "      <td>0.0</td>\n",
       "      <td>0.0</td>\n",
       "      <td>0.0</td>\n",
       "      <td>0.0</td>\n",
       "      <td>0</td>\n",
       "      <td>0</td>\n",
       "      <td>1000</td>\n",
       "      <td>0</td>\n",
       "      <td>0</td>\n",
       "      <td>Dodge</td>\n",
       "      <td>B150/B250 Wagon 2WD</td>\n",
       "      <td>N</td>\n",
       "      <td>False</td>\n",
       "      <td>0</td>\n",
       "      <td>0</td>\n",
       "      <td>0</td>\n",
       "      <td>0.0</td>\n",
       "      <td>0.0</td>\n",
       "      <td>0.0</td>\n",
       "      <td>0.0</td>\n",
       "      <td>Automatic 3-spd</td>\n",
       "      <td>12.2222</td>\n",
       "      <td>0.0</td>\n",
       "      <td>16.6667</td>\n",
       "      <td>0.0</td>\n",
       "      <td>Vans</td>\n",
       "      <td>1985</td>\n",
       "      <td>-8500</td>\n",
       "      <td>NaN</td>\n",
       "      <td>NaN</td>\n",
       "      <td>NaN</td>\n",
       "      <td>NaN</td>\n",
       "      <td>NaN</td>\n",
       "      <td>NaN</td>\n",
       "      <td>NaN</td>\n",
       "      <td>NaN</td>\n",
       "      <td>NaN</td>\n",
       "      <td>NaN</td>\n",
       "      <td>0.0</td>\n",
       "      <td>NaN</td>\n",
       "      <td>Tue Jan 01 00:00:00 EST 2013</td>\n",
       "      <td>Tue Jan 01 00:00:00 EST 2013</td>\n",
       "      <td>NaN</td>\n",
       "      <td>0</td>\n",
       "      <td>0</td>\n",
       "      <td>0</td>\n",
       "    </tr>\n",
       "    <tr>\n",
       "      <th>4</th>\n",
       "      <td>17.347895</td>\n",
       "      <td>0.0</td>\n",
       "      <td>0.0</td>\n",
       "      <td>0.0</td>\n",
       "      <td>17</td>\n",
       "      <td>0.0</td>\n",
       "      <td>0</td>\n",
       "      <td>0.0</td>\n",
       "      <td>0.0</td>\n",
       "      <td>0.0</td>\n",
       "      <td>0.0</td>\n",
       "      <td>-1</td>\n",
       "      <td>-1</td>\n",
       "      <td>0.0</td>\n",
       "      <td>467.736842</td>\n",
       "      <td>19</td>\n",
       "      <td>0.0</td>\n",
       "      <td>0</td>\n",
       "      <td>0.0</td>\n",
       "      <td>0.0</td>\n",
       "      <td>0.0</td>\n",
       "      <td>0.0</td>\n",
       "      <td>4.0</td>\n",
       "      <td>2.2</td>\n",
       "      <td>4-Wheel or All-Wheel Drive</td>\n",
       "      <td>66031</td>\n",
       "      <td>(FFS,TRBO)</td>\n",
       "      <td>-1</td>\n",
       "      <td>2150</td>\n",
       "      <td>0</td>\n",
       "      <td>Premium</td>\n",
       "      <td>Premium Gasoline</td>\n",
       "      <td>-1</td>\n",
       "      <td>-1</td>\n",
       "      <td>23</td>\n",
       "      <td>0.0</td>\n",
       "      <td>0</td>\n",
       "      <td>0.0</td>\n",
       "      <td>0.0</td>\n",
       "      <td>0.0</td>\n",
       "      <td>0.0</td>\n",
       "      <td>0</td>\n",
       "      <td>0</td>\n",
       "      <td>10000</td>\n",
       "      <td>0</td>\n",
       "      <td>14</td>\n",
       "      <td>Subaru</td>\n",
       "      <td>Legacy AWD Turbo</td>\n",
       "      <td>N</td>\n",
       "      <td>False</td>\n",
       "      <td>0</td>\n",
       "      <td>90</td>\n",
       "      <td>0</td>\n",
       "      <td>0.0</td>\n",
       "      <td>0.0</td>\n",
       "      <td>0.0</td>\n",
       "      <td>0.0</td>\n",
       "      <td>Manual 5-spd</td>\n",
       "      <td>21.0000</td>\n",
       "      <td>0.0</td>\n",
       "      <td>32.0000</td>\n",
       "      <td>0.0</td>\n",
       "      <td>Compact Cars</td>\n",
       "      <td>1993</td>\n",
       "      <td>-4000</td>\n",
       "      <td>NaN</td>\n",
       "      <td>NaN</td>\n",
       "      <td>T</td>\n",
       "      <td>NaN</td>\n",
       "      <td>NaN</td>\n",
       "      <td>NaN</td>\n",
       "      <td>NaN</td>\n",
       "      <td>NaN</td>\n",
       "      <td>NaN</td>\n",
       "      <td>NaN</td>\n",
       "      <td>0.0</td>\n",
       "      <td>NaN</td>\n",
       "      <td>Tue Jan 01 00:00:00 EST 2013</td>\n",
       "      <td>Tue Jan 01 00:00:00 EST 2013</td>\n",
       "      <td>NaN</td>\n",
       "      <td>0</td>\n",
       "      <td>0</td>\n",
       "      <td>0</td>\n",
       "    </tr>\n",
       "  </tbody>\n",
       "</table>\n",
       "</div>"
      ],
      "text/plain": [
       "   barrels08  barrelsA08  charge120  charge240  city08  city08U  cityA08  \\\n",
       "0  15.695714         0.0        0.0        0.0      19      0.0        0   \n",
       "1  29.964545         0.0        0.0        0.0       9      0.0        0   \n",
       "2  12.207778         0.0        0.0        0.0      23      0.0        0   \n",
       "3  29.964545         0.0        0.0        0.0      10      0.0        0   \n",
       "4  17.347895         0.0        0.0        0.0      17      0.0        0   \n",
       "\n",
       "   cityA08U  cityCD  cityE  cityUF  co2  co2A  co2TailpipeAGpm  \\\n",
       "0       0.0     0.0    0.0     0.0   -1    -1              0.0   \n",
       "1       0.0     0.0    0.0     0.0   -1    -1              0.0   \n",
       "2       0.0     0.0    0.0     0.0   -1    -1              0.0   \n",
       "3       0.0     0.0    0.0     0.0   -1    -1              0.0   \n",
       "4       0.0     0.0    0.0     0.0   -1    -1              0.0   \n",
       "\n",
       "   co2TailpipeGpm  comb08  comb08U  combA08  combA08U  combE  combinedCD  \\\n",
       "0      423.190476      21      0.0        0       0.0    0.0         0.0   \n",
       "1      807.909091      11      0.0        0       0.0    0.0         0.0   \n",
       "2      329.148148      27      0.0        0       0.0    0.0         0.0   \n",
       "3      807.909091      11      0.0        0       0.0    0.0         0.0   \n",
       "4      467.736842      19      0.0        0       0.0    0.0         0.0   \n",
       "\n",
       "   combinedUF  cylinders  displ                       drive  engId  \\\n",
       "0         0.0        4.0    2.0            Rear-Wheel Drive   9011   \n",
       "1         0.0       12.0    4.9            Rear-Wheel Drive  22020   \n",
       "2         0.0        4.0    2.2           Front-Wheel Drive   2100   \n",
       "3         0.0        8.0    5.2            Rear-Wheel Drive   2850   \n",
       "4         0.0        4.0    2.2  4-Wheel or All-Wheel Drive  66031   \n",
       "\n",
       "     eng_dscr  feScore  fuelCost08  fuelCostA08 fuelType         fuelType1  \\\n",
       "0       (FFS)       -1        1600            0  Regular  Regular Gasoline   \n",
       "1   (GUZZLER)       -1        3050            0  Regular  Regular Gasoline   \n",
       "2       (FFS)       -1        1250            0  Regular  Regular Gasoline   \n",
       "3         NaN       -1        3050            0  Regular  Regular Gasoline   \n",
       "4  (FFS,TRBO)       -1        2150            0  Premium  Premium Gasoline   \n",
       "\n",
       "   ghgScore  ghgScoreA  highway08  highway08U  highwayA08  highwayA08U  \\\n",
       "0        -1         -1         25         0.0           0          0.0   \n",
       "1        -1         -1         14         0.0           0          0.0   \n",
       "2        -1         -1         33         0.0           0          0.0   \n",
       "3        -1         -1         12         0.0           0          0.0   \n",
       "4        -1         -1         23         0.0           0          0.0   \n",
       "\n",
       "   highwayCD  highwayE  highwayUF  hlv  hpv     id  lv2  lv4        make  \\\n",
       "0        0.0       0.0        0.0    0    0      1    0    0  Alfa Romeo   \n",
       "1        0.0       0.0        0.0    0    0     10    0    0     Ferrari   \n",
       "2        0.0       0.0        0.0   19   77    100    0    0       Dodge   \n",
       "3        0.0       0.0        0.0    0    0   1000    0    0       Dodge   \n",
       "4        0.0       0.0        0.0    0    0  10000    0   14      Subaru   \n",
       "\n",
       "                 model mpgData  phevBlended  pv2  pv4  range  rangeCity  \\\n",
       "0   Spider Veloce 2000       Y        False    0    0      0        0.0   \n",
       "1           Testarossa       N        False    0    0      0        0.0   \n",
       "2              Charger       Y        False    0    0      0        0.0   \n",
       "3  B150/B250 Wagon 2WD       N        False    0    0      0        0.0   \n",
       "4     Legacy AWD Turbo       N        False    0   90      0        0.0   \n",
       "\n",
       "   rangeCityA  rangeHwy  rangeHwyA            trany    UCity  UCityA  \\\n",
       "0         0.0       0.0        0.0     Manual 5-spd  23.3333     0.0   \n",
       "1         0.0       0.0        0.0     Manual 5-spd  11.0000     0.0   \n",
       "2         0.0       0.0        0.0     Manual 5-spd  29.0000     0.0   \n",
       "3         0.0       0.0        0.0  Automatic 3-spd  12.2222     0.0   \n",
       "4         0.0       0.0        0.0     Manual 5-spd  21.0000     0.0   \n",
       "\n",
       "   UHighway  UHighwayA           VClass  year  youSaveSpend guzzler  \\\n",
       "0   35.0000        0.0      Two Seaters  1985         -1250     NaN   \n",
       "1   19.0000        0.0      Two Seaters  1985         -8500       T   \n",
       "2   47.0000        0.0  Subcompact Cars  1985           500     NaN   \n",
       "3   16.6667        0.0             Vans  1985         -8500     NaN   \n",
       "4   32.0000        0.0     Compact Cars  1993         -4000     NaN   \n",
       "\n",
       "  trans_dscr tCharger sCharger atvType fuelType2 rangeA evMotor mfrCode  \\\n",
       "0        NaN      NaN      NaN     NaN       NaN    NaN     NaN     NaN   \n",
       "1        NaN      NaN      NaN     NaN       NaN    NaN     NaN     NaN   \n",
       "2        SIL      NaN      NaN     NaN       NaN    NaN     NaN     NaN   \n",
       "3        NaN      NaN      NaN     NaN       NaN    NaN     NaN     NaN   \n",
       "4        NaN        T      NaN     NaN       NaN    NaN     NaN     NaN   \n",
       "\n",
       "  c240Dscr  charge240b c240bDscr                     createdOn  \\\n",
       "0      NaN         0.0       NaN  Tue Jan 01 00:00:00 EST 2013   \n",
       "1      NaN         0.0       NaN  Tue Jan 01 00:00:00 EST 2013   \n",
       "2      NaN         0.0       NaN  Tue Jan 01 00:00:00 EST 2013   \n",
       "3      NaN         0.0       NaN  Tue Jan 01 00:00:00 EST 2013   \n",
       "4      NaN         0.0       NaN  Tue Jan 01 00:00:00 EST 2013   \n",
       "\n",
       "                     modifiedOn startStop  phevCity  phevHwy  phevComb  \n",
       "0  Tue Jan 01 00:00:00 EST 2013       NaN         0        0         0  \n",
       "1  Tue Jan 01 00:00:00 EST 2013       NaN         0        0         0  \n",
       "2  Tue Jan 01 00:00:00 EST 2013       NaN         0        0         0  \n",
       "3  Tue Jan 01 00:00:00 EST 2013       NaN         0        0         0  \n",
       "4  Tue Jan 01 00:00:00 EST 2013       NaN         0        0         0  "
      ]
     },
     "execution_count": 5,
     "metadata": {},
     "output_type": "execute_result"
    }
   ],
   "source": [
    "data.head()"
   ]
  },
  {
   "cell_type": "markdown",
   "metadata": {},
   "source": [
    "But how big actually is our dataframe??? Check it with `.shape` method"
   ]
  },
  {
   "cell_type": "code",
   "execution_count": 6,
   "metadata": {},
   "outputs": [
    {
     "data": {
      "text/plain": [
       "(37843, 83)"
      ]
     },
     "execution_count": 6,
     "metadata": {},
     "output_type": "execute_result"
    }
   ],
   "source": [
    "original_shape = data.shape\n",
    "original_shape"
   ]
  },
  {
   "cell_type": "markdown",
   "metadata": {},
   "source": [
    "Let's dive a little more in the content of our data set. Is there any method that shows us the **column names**, its **data types** and number of **non-null values**?"
   ]
  },
  {
   "cell_type": "code",
   "execution_count": 7,
   "metadata": {},
   "outputs": [
    {
     "name": "stdout",
     "output_type": "stream",
     "text": [
      "<class 'pandas.core.frame.DataFrame'>\n",
      "RangeIndex: 37843 entries, 0 to 37842\n",
      "Data columns (total 83 columns):\n",
      " #   Column           Non-Null Count  Dtype  \n",
      "---  ------           --------------  -----  \n",
      " 0   barrels08        37843 non-null  float64\n",
      " 1   barrelsA08       37843 non-null  float64\n",
      " 2   charge120        37843 non-null  float64\n",
      " 3   charge240        37843 non-null  float64\n",
      " 4   city08           37843 non-null  int64  \n",
      " 5   city08U          37843 non-null  float64\n",
      " 6   cityA08          37843 non-null  int64  \n",
      " 7   cityA08U         37843 non-null  float64\n",
      " 8   cityCD           37843 non-null  float64\n",
      " 9   cityE            37843 non-null  float64\n",
      " 10  cityUF           37843 non-null  float64\n",
      " 11  co2              37843 non-null  int64  \n",
      " 12  co2A             37843 non-null  int64  \n",
      " 13  co2TailpipeAGpm  37843 non-null  float64\n",
      " 14  co2TailpipeGpm   37843 non-null  float64\n",
      " 15  comb08           37843 non-null  int64  \n",
      " 16  comb08U          37843 non-null  float64\n",
      " 17  combA08          37843 non-null  int64  \n",
      " 18  combA08U         37843 non-null  float64\n",
      " 19  combE            37843 non-null  float64\n",
      " 20  combinedCD       37843 non-null  float64\n",
      " 21  combinedUF       37843 non-null  float64\n",
      " 22  cylinders        37720 non-null  float64\n",
      " 23  displ            37723 non-null  float64\n",
      " 24  drive            36654 non-null  object \n",
      " 25  engId            37843 non-null  int64  \n",
      " 26  eng_dscr         22440 non-null  object \n",
      " 27  feScore          37843 non-null  int64  \n",
      " 28  fuelCost08       37843 non-null  int64  \n",
      " 29  fuelCostA08      37843 non-null  int64  \n",
      " 30  fuelType         37843 non-null  object \n",
      " 31  fuelType1        37843 non-null  object \n",
      " 32  ghgScore         37843 non-null  int64  \n",
      " 33  ghgScoreA        37843 non-null  int64  \n",
      " 34  highway08        37843 non-null  int64  \n",
      " 35  highway08U       37843 non-null  float64\n",
      " 36  highwayA08       37843 non-null  int64  \n",
      " 37  highwayA08U      37843 non-null  float64\n",
      " 38  highwayCD        37843 non-null  float64\n",
      " 39  highwayE         37843 non-null  float64\n",
      " 40  highwayUF        37843 non-null  float64\n",
      " 41  hlv              37843 non-null  int64  \n",
      " 42  hpv              37843 non-null  int64  \n",
      " 43  id               37843 non-null  int64  \n",
      " 44  lv2              37843 non-null  int64  \n",
      " 45  lv4              37843 non-null  int64  \n",
      " 46  make             37843 non-null  object \n",
      " 47  model            37843 non-null  object \n",
      " 48  mpgData          37843 non-null  object \n",
      " 49  phevBlended      37843 non-null  bool   \n",
      " 50  pv2              37843 non-null  int64  \n",
      " 51  pv4              37843 non-null  int64  \n",
      " 52  range            37843 non-null  int64  \n",
      " 53  rangeCity        37843 non-null  float64\n",
      " 54  rangeCityA       37843 non-null  float64\n",
      " 55  rangeHwy         37843 non-null  float64\n",
      " 56  rangeHwyA        37843 non-null  float64\n",
      " 57  trany            37832 non-null  object \n",
      " 58  UCity            37843 non-null  float64\n",
      " 59  UCityA           37843 non-null  float64\n",
      " 60  UHighway         37843 non-null  float64\n",
      " 61  UHighwayA        37843 non-null  float64\n",
      " 62  VClass           37843 non-null  object \n",
      " 63  year             37843 non-null  int64  \n",
      " 64  youSaveSpend     37843 non-null  int64  \n",
      " 65  guzzler          2281 non-null   object \n",
      " 66  trans_dscr       15047 non-null  object \n",
      " 67  tCharger         5186 non-null   object \n",
      " 68  sCharger         666 non-null    object \n",
      " 69  atvType          3072 non-null   object \n",
      " 70  fuelType2        1408 non-null   object \n",
      " 71  rangeA           1403 non-null   object \n",
      " 72  evMotor          562 non-null    object \n",
      " 73  mfrCode          7025 non-null   object \n",
      " 74  c240Dscr         37 non-null     object \n",
      " 75  charge240b       37843 non-null  float64\n",
      " 76  c240bDscr        36 non-null     object \n",
      " 77  createdOn        37843 non-null  object \n",
      " 78  modifiedOn       37843 non-null  object \n",
      " 79  startStop        6138 non-null   object \n",
      " 80  phevCity         37843 non-null  int64  \n",
      " 81  phevHwy          37843 non-null  int64  \n",
      " 82  phevComb         37843 non-null  int64  \n",
      "dtypes: bool(1), float64(32), int64(27), object(23)\n",
      "memory usage: 23.7+ MB\n"
     ]
    }
   ],
   "source": [
    "data.info()\n"
   ]
  },
  {
   "cell_type": "code",
   "execution_count": 8,
   "metadata": {},
   "outputs": [
    {
     "data": {
      "image/png": "[encoded data removed]",
      "text/plain": [
       "<Figure size 1000x600 with 1 Axes>"
      ]
     },
     "metadata": {},
     "output_type": "display_data"
    }
   ],
   "source": [
    "plot_null_heatmap(data)"
   ]
  },
  {
   "cell_type": "markdown",
   "metadata": {},
   "source": [
    "# Missing Values\n",
    "\n",
    "From this initial view, we can see that our data set contains some columns that have missing values in them and others that seem to have a lot of zero values. \n",
    "\n",
    "Let's see how prevalent missing values are in our data. We can use the Pandas `.isnull()` method to check whether the value in each field is missing (*null*) and return either True or False for each field. \n",
    "\n",
    "We can use the `.sum()` method to total up the number of True values by column, and then we can add a condition using square brackets that will filter the data and show us only columns where the number of null values were greater than zero. "
   ]
  },
  {
   "cell_type": "markdown",
   "metadata": {},
   "source": [
    "## Show the number of null values only of the columns that actually have null values"
   ]
  },
  {
   "cell_type": "code",
   "execution_count": 9,
   "metadata": {},
   "outputs": [
    {
     "data": {
      "text/plain": [
       "c240bDscr     37807\n",
       "c240Dscr      37806\n",
       "evMotor       37281\n",
       "sCharger      37177\n",
       "rangeA        36440\n",
       "fuelType2     36435\n",
       "guzzler       35562\n",
       "atvType       34771\n",
       "tCharger      32657\n",
       "startStop     31705\n",
       "mfrCode       30818\n",
       "trans_dscr    22796\n",
       "eng_dscr      15403\n",
       "drive          1189\n",
       "dtype: int64"
      ]
     },
     "execution_count": 9,
     "metadata": {},
     "output_type": "execute_result"
    }
   ],
   "source": [
    "#your code\n",
    "nan_cols = data.isnull().sum()\n",
    "nan_cols.sort_values(ascending=False).head(14)"
   ]
  },
  {
   "cell_type": "markdown",
   "metadata": {},
   "source": [
    "We can see that some columns have relatively few null values while others have tens of thousands of nulls. For fields that have a lot of null values, you will often have to make a judgement call. If you don't think the information is going to be very useful to your analysis, then you would remove those columns from your data frame. "
   ]
  },
  {
   "cell_type": "markdown",
   "metadata": {},
   "source": [
    "## Remove the columns that have more than 10,000 null values in them"
   ]
  },
  {
   "cell_type": "markdown",
   "metadata": {},
   "source": [
    "In Pandas, we can do that using the drop method. For our purposes, let's remove the columns that have more than 10,000 null values in them. We will add these column names to a list, and then we will pass those columns to the drop method and indicate that we want columns (not rows) dropped by setting the axis parameter to 1. "
   ]
  },
  {
   "cell_type": "code",
   "execution_count": 10,
   "metadata": {},
   "outputs": [],
   "source": [
    "nan_cols_10 = nan_cols[nan_cols >10000] # Take columns with 10K nulls\n",
    "columns_drop = nan_cols_10.index # Check how many columns have more than 10k nulls"
   ]
  },
  {
   "cell_type": "code",
   "execution_count": 11,
   "metadata": {},
   "outputs": [
    {
     "data": {
      "text/plain": [
       "(37843, 83)"
      ]
     },
     "execution_count": 11,
     "metadata": {},
     "output_type": "execute_result"
    }
   ],
   "source": [
    "df = data.copy() # work with a copy of the raw dataframe\n",
    "df.shape"
   ]
  },
  {
   "cell_type": "code",
   "execution_count": 12,
   "metadata": {},
   "outputs": [
    {
     "data": {
      "text/plain": [
       "(37843, 70)"
      ]
     },
     "execution_count": 12,
     "metadata": {},
     "output_type": "execute_result"
    }
   ],
   "source": [
    "#your code\n",
    "df.drop(columns=nan_cols_10.index, inplace=True) # Using the index of the series to remove\n",
    "df.shape"
   ]
  },
  {
   "cell_type": "code",
   "execution_count": 13,
   "metadata": {},
   "outputs": [
    {
     "data": {
      "text/plain": [
       "cylinders     123\n",
       "displ         120\n",
       "drive        1189\n",
       "trany          11\n",
       "dtype: int64"
      ]
     },
     "execution_count": 13,
     "metadata": {},
     "output_type": "execute_result"
    }
   ],
   "source": [
    "remaining_nulls = df.isnull().sum()\n",
    "\n",
    "remaining_nulls = remaining_nulls[remaining_nulls > 0]\n",
    "\n",
    "remaining_nulls"
   ]
  },
  {
   "cell_type": "markdown",
   "metadata": {},
   "source": [
    "This leaves us with just a handful of remaining columns that have null values. Of the columns that remain, it looks like the cylinders column and the displ column have a similar number of nulls. Perhaps they are missing for similar reasons. We can investigate this by subsetting the data set and looking at just the records where displ is null and just the columns we think will be informative in allowing us to determine a reason. "
   ]
  },
  {
   "cell_type": "markdown",
   "metadata": {},
   "source": [
    "## Create a new dataframe that shows only the row where `displ` is null. \n",
    "Keep only the columns you think are useful"
   ]
  },
  {
   "cell_type": "code",
   "execution_count": 14,
   "metadata": {},
   "outputs": [
    {
     "data": {
      "text/plain": [
       "Electricity    118\n",
       "Regular          2\n",
       "Name: fuelType, dtype: int64"
      ]
     },
     "execution_count": 14,
     "metadata": {},
     "output_type": "execute_result"
    }
   ],
   "source": [
    "df_2 = df[df.displ.isnull()] # First make a df where displ is null\n",
    "columns_to_keep = ['model', 'fuelType', 'cylinders', 'displ'] \n",
    "\n",
    "df_2 = df_2[columns_to_keep] # On our new df, keep only...\n",
    "df_2.fuelType.value_counts()"
   ]
  },
  {
   "cell_type": "markdown",
   "metadata": {},
   "source": [
    "## Fill nan values with the most appropriate technique \n",
    "*HINT: Electric cars do not have cylinders and can therefore not have any displacement*"
   ]
  },
  {
   "cell_type": "code",
   "execution_count": 15,
   "metadata": {},
   "outputs": [
    {
     "data": {
      "text/plain": [
       "120"
      ]
     },
     "execution_count": 15,
     "metadata": {},
     "output_type": "execute_result"
    }
   ],
   "source": [
    "df.displ.isnull().sum() # Re-check amount of nulls in displ column"
   ]
  },
  {
   "cell_type": "code",
   "execution_count": 16,
   "metadata": {},
   "outputs": [],
   "source": [
    "df.displ.fillna(0, inplace=True) # Fill nulls in displ column with a 0 as EV have 0 displ\n",
    "df.cylinders.fillna(0, inplace=True) # Same for cylinders"
   ]
  },
  {
   "cell_type": "markdown",
   "metadata": {},
   "source": [
    "#### Step 1 done, nulls filled in displ, and cylinder as vehicles were Electric ⚡️\n",
    "Now let's check how many `NaN` we have left and where."
   ]
  },
  {
   "cell_type": "code",
   "execution_count": 17,
   "metadata": {
    "scrolled": true
   },
   "outputs": [
    {
     "data": {
      "text/plain": [
       "drive        1189\n",
       "trany          11\n",
       "barrels08       0\n",
       "dtype: int64"
      ]
     },
     "execution_count": 17,
     "metadata": {},
     "output_type": "execute_result"
    }
   ],
   "source": [
    "df.isnull().sum().sort_values(ascending=False).head(3)"
   ]
  },
  {
   "cell_type": "markdown",
   "metadata": {},
   "source": [
    "#### Awesome, we now have only 2 columns to check:\n",
    "- drive: 1189\n",
    "- trany: 11 \n",
    "\n",
    "Let's first address `drive` column with **1189** `null` values "
   ]
  },
  {
   "cell_type": "code",
   "execution_count": 18,
   "metadata": {
    "scrolled": true
   },
   "outputs": [
    {
     "data": {
      "text/plain": [
       "0              Rear-Wheel Drive\n",
       "1              Rear-Wheel Drive\n",
       "2             Front-Wheel Drive\n",
       "3              Rear-Wheel Drive\n",
       "4    4-Wheel or All-Wheel Drive\n",
       "Name: drive, dtype: object"
      ]
     },
     "execution_count": 18,
     "metadata": {},
     "output_type": "execute_result"
    }
   ],
   "source": [
    "df.drive.head() # Check more information on non-null values...."
   ]
  },
  {
   "cell_type": "markdown",
   "metadata": {},
   "source": [
    "We now better understand the `drive` column, it shows the traction of a car.\n",
    "\n",
    "We can address this problem in several ways:\n",
    "- Try to find out the traction for each of the rows ❌ *(Too much time consumption)*\n",
    "- Find more info on the df that we could use to fill ❌ *(Not the case)*\n",
    "- Remove this rows based on the amount of null rows vs total rows ✅"
   ]
  },
  {
   "cell_type": "code",
   "execution_count": 19,
   "metadata": {},
   "outputs": [],
   "source": [
    "df.drop('drive', axis=1, inplace=True)"
   ]
  },
  {
   "cell_type": "code",
   "execution_count": 20,
   "metadata": {},
   "outputs": [
    {
     "data": {
      "text/plain": [
       "(37843, 83)"
      ]
     },
     "execution_count": 20,
     "metadata": {},
     "output_type": "execute_result"
    }
   ],
   "source": [
    "original_shape"
   ]
  },
  {
   "cell_type": "code",
   "execution_count": 21,
   "metadata": {
    "scrolled": false
   },
   "outputs": [
    {
     "data": {
      "text/plain": [
       "(37843, 69)"
      ]
     },
     "execution_count": 21,
     "metadata": {},
     "output_type": "execute_result"
    }
   ],
   "source": [
    "df.shape # 1 less column"
   ]
  },
  {
   "cell_type": "markdown",
   "metadata": {},
   "source": [
    "#### Now that we have dropped the col `drive` as it is not relevant to our analysis.\n",
    "We found out it presented over 1000 `null` values (0.25 of the column) \n",
    "We can now check for the missing null values:"
   ]
  },
  {
   "cell_type": "code",
   "execution_count": 22,
   "metadata": {},
   "outputs": [
    {
     "data": {
      "text/plain": [
       "trany        11\n",
       "barrels08     0\n",
       "make          0\n",
       "dtype: int64"
      ]
     },
     "execution_count": 22,
     "metadata": {},
     "output_type": "execute_result"
    }
   ],
   "source": [
    "df.isnull().sum().sort_values(ascending=False).head(3)"
   ]
  },
  {
   "cell_type": "markdown",
   "metadata": {},
   "source": [
    "Awesome, we now only have 11 `null` on the column `trany`, let's dive deeper and get a better understanding of `trany`"
   ]
  },
  {
   "cell_type": "code",
   "execution_count": 23,
   "metadata": {},
   "outputs": [
    {
     "data": {
      "text/plain": [
       "0       Manual 5-spd\n",
       "1       Manual 5-spd\n",
       "2       Manual 5-spd\n",
       "3    Automatic 3-spd\n",
       "4       Manual 5-spd\n",
       "Name: trany, dtype: object"
      ]
     },
     "execution_count": 23,
     "metadata": {},
     "output_type": "execute_result"
    }
   ],
   "source": [
    "df.trany.head()"
   ]
  },
  {
   "cell_type": "markdown",
   "metadata": {},
   "source": [
    "Alright, we have manual and automatic drive modes! Now let's see the proportion this **11 rows** mean to the totality of our DataFrame"
   ]
  },
  {
   "cell_type": "code",
   "execution_count": 24,
   "metadata": {},
   "outputs": [
    {
     "data": {
      "text/plain": [
       "False    0.999709\n",
       "True     0.000291\n",
       "Name: trany, dtype: float64"
      ]
     },
     "execution_count": 24,
     "metadata": {},
     "output_type": "execute_result"
    }
   ],
   "source": [
    "null_trany = df['trany'].isnull().value_counts(normalize=True)\n",
    "null_trany"
   ]
  },
  {
   "cell_type": "markdown",
   "metadata": {},
   "source": [
    "Only `0.0002%` of the value are null. We will still check and fix the `trany` col to be \"Automatic\" and then check how many remain"
   ]
  },
  {
   "cell_type": "code",
   "execution_count": 25,
   "metadata": {},
   "outputs": [],
   "source": [
    "df.loc[df['fuelType'] == 'Electricity', 'trany'] = df.loc[df['fuelType'] == 'Electricity', 'trany'].fillna('Automatic')"
   ]
  },
  {
   "cell_type": "code",
   "execution_count": 26,
   "metadata": {},
   "outputs": [
    {
     "data": {
      "text/plain": [
       "False    0.999947\n",
       "True     0.000053\n",
       "Name: trany, dtype: float64"
      ]
     },
     "execution_count": 26,
     "metadata": {},
     "output_type": "execute_result"
    }
   ],
   "source": [
    "null_trany = df['trany'].isnull().value_counts(normalize=True)\n",
    "null_trany"
   ]
  },
  {
   "cell_type": "markdown",
   "metadata": {},
   "source": [
    "Only `0.000053%` of the value are null and there are several variations for the models:\n",
    "- F150 Pickup 2WD\n",
    "- GMC C25 Pickup\n",
    "Let's delete and move on 🗑️"
   ]
  },
  {
   "cell_type": "code",
   "execution_count": 27,
   "metadata": {},
   "outputs": [],
   "source": [
    "df.dropna(subset=['trany'], inplace=True)"
   ]
  },
  {
   "cell_type": "code",
   "execution_count": 28,
   "metadata": {
    "scrolled": true
   },
   "outputs": [
    {
     "data": {
      "text/plain": [
       "False"
      ]
     },
     "execution_count": 28,
     "metadata": {},
     "output_type": "execute_result"
    }
   ],
   "source": [
    "df.isnull().sum().sort_values().any()"
   ]
  },
  {
   "cell_type": "code",
   "execution_count": 29,
   "metadata": {},
   "outputs": [
    {
     "data": {
      "image/png": "[encoded data removed]",
      "text/plain": [
       "<Figure size 1000x600 with 1 Axes>"
      ]
     },
     "metadata": {},
     "output_type": "display_data"
    }
   ],
   "source": [
    "plot_null_heatmap(df)"
   ]
  },
  {
   "cell_type": "markdown",
   "metadata": {},
   "source": [
    "### No more `null` values, let's move on"
   ]
  },
  {
   "cell_type": "markdown",
   "metadata": {},
   "source": [
    "# Incorrect Values\n",
    "\n",
    "In addition to null values, we also want to try to identify any values that seem incorrect. For example, in the previous section, we learned that a vehicle without cylinders should not have displacement and vice versa. Let's check to see if there are any cases that violate these rules."
   ]
  },
  {
   "cell_type": "markdown",
   "metadata": {},
   "source": [
    "Is there any row that seems to have strange values?"
   ]
  },
  {
   "cell_type": "code",
   "execution_count": 30,
   "metadata": {
    "scrolled": true
   },
   "outputs": [
    {
     "data": {
      "text/plain": [
       "Electricity    120\n",
       "Regular          3\n",
       "Name: fuelType, dtype: int64"
      ]
     },
     "execution_count": 30,
     "metadata": {},
     "output_type": "execute_result"
    }
   ],
   "source": [
    "df_cyl = df[(df[\"cylinders\"] == 0)] # Make a new df with cylinders = 0\n",
    "df_cyl.fuelType.value_counts()"
   ]
  },
  {
   "cell_type": "markdown",
   "metadata": {},
   "source": [
    "Here we have identified a vehicle with a regular gasoline engine that reportedly does not have any cylinders but does have a value for displacement. "
   ]
  },
  {
   "cell_type": "code",
   "execution_count": 31,
   "metadata": {
    "scrolled": true
   },
   "outputs": [
    {
     "data": {
      "text/html": [
       "<div>\n",
       "<style scoped>\n",
       "    .dataframe tbody tr th:only-of-type {\n",
       "        vertical-align: middle;\n",
       "    }\n",
       "\n",
       "    .dataframe tbody tr th {\n",
       "        vertical-align: top;\n",
       "    }\n",
       "\n",
       "    .dataframe thead th {\n",
       "        text-align: right;\n",
       "    }\n",
       "</style>\n",
       "<table border=\"1\" class=\"dataframe\">\n",
       "  <thead>\n",
       "    <tr style=\"text-align: right;\">\n",
       "      <th></th>\n",
       "      <th>model</th>\n",
       "      <th>make</th>\n",
       "      <th>fuelType</th>\n",
       "      <th>cylinders</th>\n",
       "      <th>year</th>\n",
       "    </tr>\n",
       "  </thead>\n",
       "  <tbody>\n",
       "    <tr>\n",
       "      <th>21413</th>\n",
       "      <td>RX Turbo</td>\n",
       "      <td>Subaru</td>\n",
       "      <td>Regular</td>\n",
       "      <td>0.0</td>\n",
       "      <td>1985</td>\n",
       "    </tr>\n",
       "    <tr>\n",
       "      <th>21414</th>\n",
       "      <td>RX Turbo</td>\n",
       "      <td>Subaru</td>\n",
       "      <td>Regular</td>\n",
       "      <td>0.0</td>\n",
       "      <td>1985</td>\n",
       "    </tr>\n",
       "    <tr>\n",
       "      <th>21506</th>\n",
       "      <td>RX-7</td>\n",
       "      <td>Mazda</td>\n",
       "      <td>Regular</td>\n",
       "      <td>0.0</td>\n",
       "      <td>1986</td>\n",
       "    </tr>\n",
       "  </tbody>\n",
       "</table>\n",
       "</div>"
      ],
      "text/plain": [
       "          model    make fuelType  cylinders  year\n",
       "21413  RX Turbo  Subaru  Regular        0.0  1985\n",
       "21414  RX Turbo  Subaru  Regular        0.0  1985\n",
       "21506      RX-7   Mazda  Regular        0.0  1986"
      ]
     },
     "execution_count": 31,
     "metadata": {},
     "output_type": "execute_result"
    }
   ],
   "source": [
    "df_cyl = df_cyl[df_cyl[\"fuelType\"] == \"Regular\"] # New df with fueltype Regular, they should not be 0\n",
    "df_cyl[[\"model\", \"make\", \"fuelType\", \"cylinders\", \"year\"]]"
   ]
  },
  {
   "cell_type": "code",
   "execution_count": 32,
   "metadata": {},
   "outputs": [],
   "source": [
    "# Replace 0.0 with 4.0 as the Subaru RX Turbo 1985 has 4 cylinders\n",
    "\n",
    "df.loc[(df['cylinders'] == 0) & \n",
    "       (df['fuelType'] == 'Regular') & \n",
    "       (df['make'] == 'Subaru'), 'cylinders'] = 4.0"
   ]
  },
  {
   "cell_type": "code",
   "execution_count": 33,
   "metadata": {},
   "outputs": [],
   "source": [
    "# The Mazda RX-7 1986 has 2 cylinders, replace 0.0 with 2.0\n",
    "\n",
    "df.loc[(df['cylinders'] == 0) & \n",
    "       (df['fuelType'] == 'Regular') & \n",
    "       (df['make'] == 'Mazda'), 'cylinders'] = 2.0"
   ]
  },
  {
   "cell_type": "markdown",
   "metadata": {},
   "source": [
    "### We succesfully removed the 3 gasoline vehicles with 0 cylinders\n",
    "Let's now check if all the `0.0` cylinders are **Electric**⚡️, as they should!"
   ]
  },
  {
   "cell_type": "code",
   "execution_count": 40,
   "metadata": {
    "scrolled": true
   },
   "outputs": [
    {
     "data": {
      "text/plain": [
       "16.0        8\n",
       "2.0        55\n",
       "0.0       120\n",
       "10.0      153\n",
       "3.0       207\n",
       "12.0      569\n",
       "5.0       766\n",
       "8.0      8292\n",
       "6.0     13183\n",
       "4.0     14488\n",
       "Name: cylinders, dtype: int64"
      ]
     },
     "execution_count": 40,
     "metadata": {},
     "output_type": "execute_result"
    }
   ],
   "source": [
    "df.cylinders.value_counts().sort_values()"
   ]
  },
  {
   "cell_type": "code",
   "execution_count": 41,
   "metadata": {},
   "outputs": [
    {
     "data": {
      "text/plain": [
       "120"
      ]
     },
     "execution_count": 41,
     "metadata": {},
     "output_type": "execute_result"
    }
   ],
   "source": [
    "df_ev_cyl = df[(df[\"cylinders\"] == 0) & (df[\"fuelType\"] == \"Electricity\")]\n",
    "df_ev_cyl.cylinders.count()"
   ]
  },
  {
   "cell_type": "markdown",
   "metadata": {},
   "source": [
    "## Check similar rows"
   ]
  },
  {
   "cell_type": "code",
   "execution_count": 44,
   "metadata": {},
   "outputs": [
    {
     "data": {
      "text/plain": [
       "(37841, 69)"
      ]
     },
     "execution_count": 44,
     "metadata": {},
     "output_type": "execute_result"
    }
   ],
   "source": [
    "df.shape"
   ]
  },
  {
   "cell_type": "code",
   "execution_count": 43,
   "metadata": {},
   "outputs": [
    {
     "data": {
      "text/plain": [
       "False    37841\n",
       "dtype: int64"
      ]
     },
     "execution_count": 43,
     "metadata": {},
     "output_type": "execute_result"
    }
   ],
   "source": [
    "df.duplicated().value_counts() # Check for duplicated rows"
   ]
  },
  {
   "cell_type": "markdown",
   "metadata": {},
   "source": [
    "Suppose that using one of the aforementioned methods, we found out that this vehicle actually has a 4 cylinder engine. Update that specific value in the data frame. "
   ]
  },
  {
   "cell_type": "code",
   "execution_count": null,
   "metadata": {},
   "outputs": [],
   "source": [
    "#your code"
   ]
  },
  {
   "cell_type": "markdown",
   "metadata": {},
   "source": [
    "## Bonus: \n",
    " Try to find other values that might be incorrect in the data set based on what you know about automobiles and correct them."
   ]
  },
  {
   "cell_type": "code",
   "execution_count": null,
   "metadata": {},
   "outputs": [],
   "source": [
    "#your code"
   ]
  },
  {
   "cell_type": "markdown",
   "metadata": {},
   "source": [
    "# Low Variance Columns\n",
    "\n",
    "When analyzing data, we want the fields we are working with to be informative, and we will want to strip away any columns that don't have a lot of value to us. One easy way to do this is to identify columns that have low variance, where the majority of the values in the column are the same. Since there is not a lot of variability in these columns, they have the potential to not be as informative as columns that have a variety of different values in them.\n",
    "\n",
    "Let's try to identify columns where at least 90% of the values are the same so that we can remove them from our data set. To do this, we are going to create an empty list called low_variance that will eventually contain the names of columns that fit our criteria.\n",
    "\n",
    "We will then write a for loop that will take the minimum and the 90th percentile value for all the numeric columns in our data set (identified via the _get_numeric_data method). If the 90th percentile and the minimum are equal to each other, that means that at least 90% of the values in that column are the same and we will append that column name to our low_variance list. "
   ]
  },
  {
   "cell_type": "code",
   "execution_count": null,
   "metadata": {},
   "outputs": [],
   "source": [
    "#your code\n",
    "low_variance = []\n",
    "\n"
   ]
  },
  {
   "cell_type": "markdown",
   "metadata": {},
   "source": [
    "This returned 34 columns that we could potentially eliminate due to not having high enough variability to be informative. Of course, before we do this, we should check the values that do exist in these fields to confirm that they are not very informative. Once they have been checked, we can use the the drop method like we did earlier in this lesson to remove those columns from our data frame.\n",
    "\n"
   ]
  },
  {
   "cell_type": "markdown",
   "metadata": {},
   "source": [
    "## Use the the drop method like we did earlier in this lesson to remove the non informative columns from our data frame."
   ]
  },
  {
   "cell_type": "code",
   "execution_count": null,
   "metadata": {},
   "outputs": [],
   "source": [
    "#your code\n"
   ]
  },
  {
   "cell_type": "markdown",
   "metadata": {},
   "source": [
    "# Extreme Values and Outliers\n",
    "\n",
    "Now that we have removed low variance columns, we should look for outliers, or extreme values, in the columns that remain. These outliers can influence our aggregations when we are analyzing data later, so we want to make sure we address them during our data cleaning stage.\n",
    "\n",
    "A common method for identifying outliers is one that leverages the interquartile range (IQR). Once the IQR is calculated, it is multiplied by a constant (typically 1.5) and lower and upper bounds are established at:\n",
    "\n",
    "    25th Percentile - (IQR x 1.5)\n",
    "    75th Percentile + (IQR x 1.5)\n",
    "\n",
    "Any values outside this range are potential outliers and should be investigated.\n",
    "\n",
    "Let's look at how we would do this for our data set using Python. We will use the Pandas describe function to easily calculate the 25th and 75th percentiles for every column and transpose the results so that we can easily reference the values in calculating the interquartile ranges.\n",
    "\n"
   ]
  },
  {
   "cell_type": "code",
   "execution_count": null,
   "metadata": {},
   "outputs": [],
   "source": [
    "#Run this code\n",
    "stats = data.describe().transpose()\n",
    "stats['IQR'] = stats['75%'] - stats['25%']\n",
    "stats"
   ]
  },
  {
   "cell_type": "markdown",
   "metadata": {},
   "source": [
    "We will then create an empty data frame called outliers with the same columns as our data set. Finally, we will loop through each column in the data calculating the lower and upper bounds, retrieving records where the value for that column falls outside the bounds we established, and appending those results to our outlier data frame."
   ]
  },
  {
   "cell_type": "code",
   "execution_count": null,
   "metadata": {},
   "outputs": [],
   "source": [
    "#Run this code\n",
    "outliers = pd.DataFrame(columns=data.columns)\n",
    "\n",
    "for col in stats.index:\n",
    "    iqr = stats.at[col,'IQR']\n",
    "    cutoff = iqr * 1.5\n",
    "    lower = stats.at[col,'25%'] - cutoff\n",
    "    upper = stats.at[col,'75%'] + cutoff\n",
    "    results = data[(data[col] < lower) | \n",
    "                   (data[col] > upper)].copy()\n",
    "    results['Outlier'] = col\n",
    "    outliers = outliers.append(results)\n",
    "    \n",
    "\n",
    "outliers.head()"
   ]
  },
  {
   "cell_type": "markdown",
   "metadata": {},
   "source": [
    "Our outliers data frame should now be populated with records that you can investigate further and determine whether they should be kept in the data or dropped. The Outlier column we added before appending the results for the column to the outliers data frame will let you know what column in each record contained the outlier. If you find that this method is returning too many results, you can be more stringent with your cutoff criteria (e.g. increasing the constant by which you multiply the IQR to 3 instead of 1.5)."
   ]
  },
  {
   "cell_type": "markdown",
   "metadata": {},
   "source": [
    "# Data Type Correction\n",
    "\n",
    "One common problem that is often overlooked is incorrect data types. This typically occurs when there is a numeric variable that should actually be represented as a categorical variable. "
   ]
  },
  {
   "cell_type": "markdown",
   "metadata": {},
   "source": [
    "## Check the data type of each column"
   ]
  },
  {
   "cell_type": "code",
   "execution_count": null,
   "metadata": {},
   "outputs": [],
   "source": [
    "##your code\n"
   ]
  },
  {
   "cell_type": "markdown",
   "metadata": {},
   "source": [
    "## Cleaning years\n",
    "Do you think column year is a continuous variable? Would you change it onto another dtype?"
   ]
  },
  {
   "cell_type": "code",
   "execution_count": null,
   "metadata": {},
   "outputs": [],
   "source": [
    "#your code\n"
   ]
  },
  {
   "cell_type": "markdown",
   "metadata": {},
   "source": [
    "You can apply this technique to any column whose data type you would like to change."
   ]
  },
  {
   "cell_type": "code",
   "execution_count": null,
   "metadata": {},
   "outputs": [],
   "source": [
    "#your code\n"
   ]
  },
  {
   "cell_type": "markdown",
   "metadata": {},
   "source": [
    "# Cleaning Text and Removing Special Characters\n",
    "\n",
    "The presence of special characters in our fields has the potential to make analyzing our data challenging. Imagine not being able to perform calculations on a numeric field because it was currently represented as an object data type due to the fact that it had a dollar sign ($) in it. \n",
    "\n",
    "Similarly, imagine having a categorical field where you could not group records that belong in the same group together because in one field you are grouping by, terms that refer to the same thing are sometimes hyphenated. In cases like this, it is necessary to remove special characters so that we can properly analyze the data.\n",
    "\n",
    "In our vehicles data set, the trany field has several special characters (parentheses, hyphens, etc.). Check the unique values and clean the column.\n",
    "\n",
    "hint: check the `replace` function"
   ]
  },
  {
   "cell_type": "code",
   "execution_count": null,
   "metadata": {},
   "outputs": [],
   "source": [
    "#your code\n"
   ]
  },
  {
   "cell_type": "code",
   "execution_count": null,
   "metadata": {},
   "outputs": [],
   "source": [
    "#your code"
   ]
  },
  {
   "cell_type": "code",
   "execution_count": null,
   "metadata": {},
   "outputs": [],
   "source": [
    "#your code"
   ]
  },
  {
   "cell_type": "markdown",
   "metadata": {},
   "source": [
    "As you can see, we now have no special characters, consistent naming, and proper spacing. We started out with 47 unique values in this column, and using this technique, we were able to reduce the number of unique values to 39.\n",
    "\n",
    "\n",
    "\n",
    "# Finding and Removing Duplicates\n",
    "\n",
    "The final topic we are going to cover in this lab is how to identify and remove duplicate rows (or rows that refer to the same entity) in our data. When trying to identify duplicates, we will use the columns (or attributes) of the data to help us determine what entities are similar enough to be considered the same entity. We want to start with all the columns we currently have available to us and work our way toward a lesser number of attributes in an intuitive fashion. In this process, the act of dropping duplicated records is easy, but identifying the correct attributes for comparison and which records to drop is sometimes quite challenging.\n",
    "\n",
    "The first thing we will do is attempt to drop any duplicate records, considering all the columns we currently have in the data set. \n",
    "\n",
    "Pandas provides us with the ability to do that via the `drop_duplicates method`."
   ]
  },
  {
   "cell_type": "markdown",
   "metadata": {},
   "source": [
    "## Drop duplicate rows that are completely equal"
   ]
  },
  {
   "cell_type": "code",
   "execution_count": null,
   "metadata": {},
   "outputs": [],
   "source": [
    "#your code\n"
   ]
  },
  {
   "cell_type": "markdown",
   "metadata": {},
   "source": [
    "This tells us that there were no records that matched exactly across all columns. However, if we reduce the number of columns in our data that we are interested in, we can try again and have a higher likelihood of finding duplicate records. "
   ]
  },
  {
   "cell_type": "markdown",
   "metadata": {},
   "source": [
    "## Select a subset of columns, remove all other columns, and then use the drop_duplicates method to drop any duplicate records based on the remaining columns."
   ]
  },
  {
   "cell_type": "code",
   "execution_count": null,
   "metadata": {},
   "outputs": [],
   "source": [
    "#your code\n",
    "\n",
    "#print('Number of duplicate records dropped: ', str(before - after))"
   ]
  },
  {
   "cell_type": "markdown",
   "metadata": {},
   "source": [
    "With the reduced number of columns, we were able to identify and drop 885 duplicate records."
   ]
  },
  {
   "cell_type": "markdown",
   "metadata": {},
   "source": [
    "# Export clean dataset\n",
    "Export your bright new clean dataset into a csv file and store it in data folder."
   ]
  },
  {
   "cell_type": "code",
   "execution_count": null,
   "metadata": {},
   "outputs": [],
   "source": [
    "#your code"
   ]
  }
 ],
 "metadata": {
  "kernelspec": {
   "display_name": "Python 3 (ipykernel)",
   "language": "python",
   "name": "python3"
  },
  "language_info": {
   "codemirror_mode": {
    "name": "ipython",
    "version": 3
   },
   "file_extension": ".py",
   "mimetype": "text/x-python",
   "name": "python",
   "nbconvert_exporter": "python",
   "pygments_lexer": "ipython3",
   "version": "3.11.4"
  },
  "toc": {
   "base_numbering": 1,
   "nav_menu": {},
   "number_sections": true,
   "sideBar": true,
   "skip_h1_title": false,
   "title_cell": "Table of Contents",
   "title_sidebar": "Contents",
   "toc_cell": true,
   "toc_position": {},
   "toc_section_display": true,
   "toc_window_display": false
  },
  "varInspector": {
   "cols": {
    "lenName": 16,
    "lenType": 16,
    "lenVar": 40
   },
   "kernels_config": {
    "python": {
     "delete_cmd_postfix": "",
     "delete_cmd_prefix": "del ",
     "library": "var_list.py",
     "varRefreshCmd": "print(var_dic_list())"
    },
    "r": {
     "delete_cmd_postfix": ") ",
     "delete_cmd_prefix": "rm(",
     "library": "var_list.r",
     "varRefreshCmd": "cat(var_dic_list()) "
    }
   },
   "types_to_exclude": [
    "module",
    "function",
    "builtin_function_or_method",
    "instance",
    "_Feature"
   ],
   "window_display": false
  }
 },
 "nbformat": 4,
 "nbformat_minor": 2
}
